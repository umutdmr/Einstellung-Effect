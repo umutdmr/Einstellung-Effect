{
 "cells": [
  {
   "cell_type": "code",
   "execution_count": 1,
   "metadata": {
    "ExecuteTime": {
     "end_time": "2024-05-26T12:50:48.206391900Z",
     "start_time": "2024-05-26T12:50:46.495738900Z"
    }
   },
   "outputs": [],
   "source": [
    "import data\n",
    "import torch\n",
    "from torch.distributions import Normal, Categorical, kl_divergence\n",
    "import torch.nn as nn\n",
    "import torch.optim as optim\n",
    "import torch.nn.functional as F\n",
    "import numpy as np"
   ]
  },
  {
   "cell_type": "markdown",
   "metadata": {},
   "source": [
    "# Model definitions"
   ]
  },
  {
   "cell_type": "code",
   "execution_count": 4,
   "metadata": {
    "ExecuteTime": {
     "end_time": "2024-05-26T07:36:17.437648800Z",
     "start_time": "2024-05-26T07:36:17.434220600Z"
    }
   },
   "outputs": [],
   "source": [
    "class Model(nn.Module):\n",
    "    def __init__(self, num_actions, beta=10, alpha=0.0):\n",
    "        super(Model, self).__init__()\n",
    "        self.beta = beta\n",
    "        self.params = nn.Parameter(torch.zeros(3, num_actions))\n",
    "        self.optimizer = optim.SGD(self.parameters(), lr=alpha)\n",
    "\n",
    "    def forward(self, utilities):\n",
    "        self.probabilities = F.softmax(self.params, dim=1)\n",
    "        joint_prior = torch.einsum('i,j,k->ijk', self.probabilities[0], self.probabilities[1], self.probabilities[2]).flatten()\n",
    "\n",
    "        posterior = joint_prior * torch.exp(self.beta * utilities)\n",
    "        posterior = posterior / posterior.sum()\n",
    "\n",
    "        return Categorical(posterior).sample(), kl_divergence(Categorical(posterior), Categorical(joint_prior)).item()  \n",
    "\n",
    "    def learn(self, action):\n",
    "        prior = Categorical(self.probabilities)\n",
    "        loss = -prior.log_prob(combinations[action] + 10).sum()\n",
    "        self.optimizer.zero_grad()\n",
    "        loss.backward()\n",
    "        self.optimizer.step()"
   ]
  },
  {
   "cell_type": "code",
   "execution_count": 5,
   "metadata": {
    "ExecuteTime": {
     "end_time": "2024-05-26T07:36:21.121553300Z",
     "start_time": "2024-05-26T07:36:21.115525500Z"
    }
   },
   "outputs": [],
   "source": [
    "# A simpler model that always chooses the action with the highest utility without considering costs.\n",
    "class RationalModel(nn.Module):\n",
    "    def __init__(self):\n",
    "        super(RationalModel, self).__init__()\n",
    "\n",
    "    def forward(self, utilities):\n",
    "        return torch.argmax(utilities), 0  # If it is rational, it will return the combination with the highest utility. And thus the KLD is 0.\n",
    "\n",
    "    def learn(self, action):\n",
    "        pass"
   ]
  },
  {
   "cell_type": "code",
   "execution_count": 2,
   "metadata": {
    "ExecuteTime": {
     "end_time": "2024-05-26T12:50:54.920807Z",
     "start_time": "2024-05-26T12:50:54.915430900Z"
    }
   },
   "outputs": [],
   "source": [
    "experiments = [data.default, data.control, data.less_e, data.more_e, data.alternating, data.extreme]\n",
    "num_runs = 100\n",
    "\n",
    "# only search for weights between -10 and +10\n",
    "# This range denotes the possible coefficients that could be used with the jars to measure a specific amount of water.\n",
    "values = torch.arange(-10, 11, 1) \n",
    "\n",
    "# All combinations of the possible values.\n",
    "combinations = torch.cartesian_prod(values, values, values)"
   ]
  },
  {
   "cell_type": "code",
   "execution_count": 7,
   "metadata": {
    "ExecuteTime": {
     "end_time": "2024-05-26T07:36:24.100123900Z",
     "start_time": "2024-05-26T07:36:24.094386Z"
    }
   },
   "outputs": [],
   "source": [
    "def simulate(experiments, num_runs, gamma, bounded, alphas, betas):\n",
    "    for num_experiment, experiment in enumerate(experiments):\n",
    "        x, y = experiment()\n",
    "\n",
    "        # precompute utilities\n",
    "        # x is jar capacities, combinations is the all combinations, \n",
    "        optimality = ((combinations.float() @ x.t()) == y).double()\n",
    "        utilities = optimality - gamma * (combinations ** 2).sum(-1, keepdims=True)\n",
    "\n",
    "        num_correct = torch.zeros(num_runs, len(alphas), len(betas), x.shape[0])\n",
    "        num_d_solution = torch.zeros(num_runs, len(alphas), len(betas), x.shape[0])\n",
    "        num_e_solution = torch.zeros(num_runs, len(alphas), len(betas), x.shape[0])\n",
    "        klds = torch.zeros(num_runs, len(alphas), len(betas), x.shape[0])\n",
    "\n",
    "        for alpha_idx, alpha in enumerate(alphas):\n",
    "            print(alpha_idx)\n",
    "            for beta_idx, beta in enumerate(betas):\n",
    "                for run in range(num_runs):\n",
    "                    if bounded:\n",
    "                        model = Model(values.shape[0], beta, alpha)\n",
    "                    else:\n",
    "                        model = RationalModel()\n",
    "                    for i in range(x.shape[0]):\n",
    "                        # inference\n",
    "                        action, kld = model(utilities[:, i]) # With the prior it decides the action. The solution can be wrong, Einstellung, or direct\n",
    "                        klds[run, alpha_idx, beta_idx, i] = kld # Could be 0 if our model is rational or between 0 and 1.\n",
    "                        # adjust prior\n",
    "                        model.learn(action) # Basically you have a new prior since you learned something.\n",
    "\n",
    "                        # If the action is optimal, or correct if you will.\n",
    "                        if optimality[action, i].bool().item(): \n",
    "                            num_correct[run, alpha_idx, beta_idx, i] +=1\n",
    "                        \n",
    "                        # If the sum of squares of the coefficients in the action is less than 6 then it is a direct solution\n",
    "                        if optimality[action, i].bool().item() and combinations[action].pow(2).sum() < 6:  \n",
    "                            num_d_solution[run, alpha_idx, beta_idx, i] +=1\n",
    "                        \n",
    "                        # If the sum of squares of the coefficients in the action is exactly 6 then it is an Einstellung solution\n",
    "                        if optimality[action, i].bool().item() and combinations[action].pow(2).sum() == 6:\n",
    "                            num_e_solution[run, alpha_idx, beta_idx, i] +=1\n",
    "        torch.save([num_correct, num_d_solution, num_e_solution, klds], 'data/exp' + str(num_experiment) + '_gamma_' + str(gamma) + '_bounded_' + str(bounded) + '.pth')"
   ]
  },
  {
   "cell_type": "markdown",
   "metadata": {},
   "source": [
    "# Simulate full model"
   ]
  },
  {
   "cell_type": "code",
   "execution_count": 11,
   "metadata": {
    "ExecuteTime": {
     "end_time": "2024-05-25T15:48:52.160655100Z",
     "start_time": "2024-05-25T12:47:57.165881400Z"
    }
   },
   "outputs": [
    {
     "name": "stdout",
     "output_type": "stream",
     "text": [
      "0\n",
      "1\n",
      "2\n",
      "3\n",
      "4\n",
      "5\n",
      "6\n",
      "7\n",
      "8\n",
      "9\n",
      "10\n",
      "11\n",
      "12\n",
      "13\n",
      "14\n",
      "15\n",
      "16\n",
      "17\n",
      "18\n",
      "19\n",
      "20\n",
      "0\n",
      "1\n",
      "2\n",
      "3\n",
      "4\n",
      "5\n",
      "6\n",
      "7\n",
      "8\n",
      "9\n",
      "10\n",
      "11\n",
      "12\n",
      "13\n",
      "14\n",
      "15\n",
      "16\n",
      "17\n",
      "18\n",
      "19\n",
      "20\n",
      "0\n",
      "1\n",
      "2\n",
      "3\n",
      "4\n",
      "5\n",
      "6\n",
      "7\n",
      "8\n",
      "9\n",
      "10\n",
      "11\n",
      "12\n",
      "13\n",
      "14\n",
      "15\n",
      "16\n",
      "17\n",
      "18\n",
      "19\n",
      "20\n",
      "0\n",
      "1\n",
      "2\n",
      "3\n",
      "4\n",
      "5\n",
      "6\n",
      "7\n",
      "8\n",
      "9\n",
      "10\n",
      "11\n",
      "12\n",
      "13\n",
      "14\n",
      "15\n",
      "16\n",
      "17\n",
      "18\n",
      "19\n",
      "20\n",
      "0\n",
      "1\n",
      "2\n",
      "3\n",
      "4\n",
      "5\n",
      "6\n",
      "7\n",
      "8\n",
      "9\n",
      "10\n",
      "11\n",
      "12\n",
      "13\n",
      "14\n",
      "15\n",
      "16\n",
      "17\n",
      "18\n",
      "19\n",
      "20\n",
      "0\n",
      "1\n",
      "2\n",
      "3\n",
      "4\n",
      "5\n",
      "6\n",
      "7\n",
      "8\n",
      "9\n",
      "10\n",
      "11\n",
      "12\n",
      "13\n",
      "14\n",
      "15\n",
      "16\n",
      "17\n",
      "18\n",
      "19\n",
      "20\n"
     ]
    }
   ],
   "source": [
    "gamma = 0.05\n",
    "bounded = True # That means our model is not perfectly rational. There is a cost of changing prior to posterior.\n",
    "\n",
    "alphas = torch.linspace(0., 1, 21)  # 0, 0.05, 0.1, 0.15, 0.2, ...\n",
    "betas = torch.linspace(1, 50, 50)   # 1, 2, 3, 4, 5, ...\n",
    "\n",
    "simulate(experiments, num_runs, gamma, bounded, alphas, betas)"
   ]
  },
  {
   "cell_type": "markdown",
   "metadata": {},
   "source": [
    "# Simulate model with no physical effort"
   ]
  },
  {
   "cell_type": "code",
   "execution_count": 23,
   "metadata": {
    "ExecuteTime": {
     "end_time": "2024-05-26T11:36:08.727326Z",
     "start_time": "2024-05-26T11:36:08.710530700Z"
    }
   },
   "outputs": [
    {
     "ename": "NameError",
     "evalue": "name 'simulate' is not defined",
     "output_type": "error",
     "traceback": [
      "\u001b[1;31m---------------------------------------------------------------------------\u001b[0m",
      "\u001b[1;31mNameError\u001b[0m                                 Traceback (most recent call last)",
      "Cell \u001b[1;32mIn[23], line 7\u001b[0m\n\u001b[0;32m      4\u001b[0m alphas \u001b[38;5;241m=\u001b[39m torch\u001b[38;5;241m.\u001b[39mlinspace(\u001b[38;5;241m0.\u001b[39m, \u001b[38;5;241m1\u001b[39m, \u001b[38;5;241m21\u001b[39m)\n\u001b[0;32m      5\u001b[0m betas \u001b[38;5;241m=\u001b[39m torch\u001b[38;5;241m.\u001b[39mlinspace(\u001b[38;5;241m1\u001b[39m, \u001b[38;5;241m50\u001b[39m, \u001b[38;5;241m50\u001b[39m)\n\u001b[1;32m----> 7\u001b[0m \u001b[43msimulate\u001b[49m(experiments, num_runs, gamma, bounded, alphas, betas)\n",
      "\u001b[1;31mNameError\u001b[0m: name 'simulate' is not defined"
     ]
    }
   ],
   "source": [
    "gamma = 0.00\n",
    "bounded = True\n",
    "\n",
    "alphas = torch.linspace(0., 1, 21)\n",
    "betas = torch.linspace(1, 50, 50)\n",
    "\n",
    "simulate(experiments, num_runs, gamma, bounded, alphas, betas)"
   ]
  },
  {
   "cell_type": "markdown",
   "metadata": {},
   "source": [
    "# Simulate rational model"
   ]
  },
  {
   "cell_type": "code",
   "execution_count": null,
   "metadata": {},
   "outputs": [],
   "source": [
    "gamma = 0.05\n",
    "bounded = False\n",
    "\n",
    "alphas = torch.linspace(1, 1, 1)\n",
    "betas = torch.linspace(1, 1, 1)\n",
    "\n",
    "simulate(experiments, num_runs, gamma, bounded, alphas, betas)"
   ]
  },
  {
   "cell_type": "markdown",
   "metadata": {
    "collapsed": false
   },
   "source": [
    "# Analyze Results"
   ]
  },
  {
   "cell_type": "code",
   "execution_count": 16,
   "metadata": {
    "ExecuteTime": {
     "end_time": "2024-05-26T12:58:45.465377700Z",
     "start_time": "2024-05-26T12:58:43.872019200Z"
    },
    "collapsed": false
   },
   "outputs": [
    {
     "name": "stderr",
     "output_type": "stream",
     "text": [
      "Matplotlib is building the font cache; this may take a moment.\n"
     ]
    }
   ],
   "source": [
    "from enum import Enum, auto\n",
    "import matplotlib.pyplot as plt\n",
    "import torch\n",
    "import pandas as pd\n",
    "import seaborn as sns\n",
    "\n",
    "class ExperimentEnum(Enum):\n",
    "    DEFAULT = 0\n",
    "    CONTROL = 1\n",
    "    LESS_E = 2\n",
    "    MORE_E = 3\n",
    "    ALTERNATING = 4\n",
    "    EXTREME = 5"
   ]
  },
  {
   "cell_type": "code",
   "execution_count": 17,
   "metadata": {
    "ExecuteTime": {
     "end_time": "2024-05-26T12:58:45.471849900Z",
     "start_time": "2024-05-26T12:58:45.467378600Z"
    },
    "collapsed": false
   },
   "outputs": [],
   "source": [
    "def get_einstellung_percentage(experiment, alphas, betas, alpha, beta, bounded=True, gamma=\"0.05\"):\n",
    "    file_path = f\"data/exp{experiment.value}_gamma_{gamma}_bounded_{bounded}.pth\"\n",
    "    \n",
    "    # Load the saved tensors\n",
    "    num_correct, num_d_solution, num_e_solution, klds = torch.load(file_path)\n",
    "    \n",
    "    # Get the indices for the specified alpha and beta\n",
    "    alpha_idx = (torch.abs(alphas - alpha)).argmin().item()\n",
    "    beta_idx = (torch.abs(betas - beta)).argmin().item()\n",
    "    \n",
    "    # Extract the relevant slices for the given alpha and beta\n",
    "    einstellung_solutions = num_e_solution[:, alpha_idx, beta_idx, :]\n",
    "    \n",
    "    # Calculate the percentage of Einstellung solutions for each problem\n",
    "    einstellung_percentage = einstellung_solutions.mean(0).numpy() * 100\n",
    "    \n",
    "    return einstellung_percentage"
   ]
  },
  {
   "cell_type": "code",
   "execution_count": 18,
   "metadata": {
    "ExecuteTime": {
     "end_time": "2024-05-26T12:58:47.823887800Z",
     "start_time": "2024-05-26T12:58:47.804768700Z"
    },
    "collapsed": false
   },
   "outputs": [],
   "source": [
    "def show_combined_plot(mean_exp_c1c2, mean_ctrl_c1c2, mean_exp_c3c4, mean_ctrl_c3c4, name1, name2):\n",
    "    # Construct DataFrame\n",
    "    data = {\n",
    "        'Group': [name1, name2, name1, name2],\n",
    "        'response': ['C1/C2', 'C1/C2', 'C3/C4', 'C3/C4'],\n",
    "        'p': [mean_exp_c1c2, mean_ctrl_c1c2, mean_exp_c3c4, mean_ctrl_c3c4],\n",
    "        'se': [0, 0, 0, 0]  # Placeholder for standard error if available\n",
    "    }\n",
    "\n",
    "    df = pd.DataFrame(data)\n",
    "\n",
    "    # Plotting\n",
    "    sns.set(style=\"whitegrid\")\n",
    "    g = sns.catplot(x=\"Group\", y=\"p\", hue=\"Group\", col=\"response\", data=df, kind=\"bar\", palette=\"pastel\", height=4, aspect=1)\n",
    "    g.set(ylim=(0, 100))\n",
    "    g.set_axis_labels(\"Condition\", \"% Einstellung solutions\")\n",
    "    g.set_titles(\"{col_name}\")\n",
    "\n",
    "    # Add error bars if se is not zero\n",
    "    for index, row in df.iterrows():\n",
    "        g.axes.flat[index % 2].errorbar(index % 2, row['p'], yerr=row['se'], fmt='none', c='black')\n",
    "\n",
    "    plt.show()"
   ]
  },
  {
   "cell_type": "code",
   "execution_count": 19,
   "metadata": {
    "ExecuteTime": {
     "end_time": "2024-05-26T12:58:48.433768500Z",
     "start_time": "2024-05-26T12:58:48.377972600Z"
    },
    "collapsed": false
   },
   "outputs": [],
   "source": [
    "def plot_alpha_effect_on_einstellung(means, alphas):\n",
    "    # Construct DataFrame\n",
    "    data = {\n",
    "        'Alpha': alphas,\n",
    "        'Mean Einstellung %': means\n",
    "    }\n",
    "\n",
    "    df = pd.DataFrame(data)\n",
    "\n",
    "    # Plotting\n",
    "    sns.set(style=\"whitegrid\")\n",
    "    plt.figure(figsize=(10, 6))\n",
    "    p = sns.lineplot(x=\"Alpha\", y=\"Mean Einstellung %\", data=df, marker='o')\n",
    "    p.set(ylim=(0, 100))\n",
    "    p.set_title(\"Effect of Alpha on Einstellung Solution Percentages\")\n",
    "    p.set_xlabel(\"Alpha\")\n",
    "    p.set_ylabel(\"Mean Einstellung %\")\n",
    "    plt.show()"
   ]
  },
  {
   "cell_type": "code",
   "execution_count": 20,
   "metadata": {
    "ExecuteTime": {
     "end_time": "2024-05-26T12:58:49.136901500Z",
     "start_time": "2024-05-26T12:58:49.127095300Z"
    },
    "collapsed": false
   },
   "outputs": [],
   "source": [
    "def calculate_mean_for_indices(einstellung_percentages, indices):\n",
    "    return einstellung_percentages[indices].mean()"
   ]
  },
  {
   "cell_type": "code",
   "execution_count": 21,
   "metadata": {
    "ExecuteTime": {
     "end_time": "2024-05-26T12:58:49.585362600Z",
     "start_time": "2024-05-26T12:58:49.577232Z"
    },
    "collapsed": false
   },
   "outputs": [],
   "source": [
    "alphas = torch.linspace(0., 1, 21)\n",
    "betas = torch.linspace(1, 50, 50)"
   ]
  },
  {
   "cell_type": "markdown",
   "metadata": {
    "collapsed": false
   },
   "source": [
    "# 1- Main Einstellung Effect"
   ]
  },
  {
   "cell_type": "code",
   "execution_count": 22,
   "metadata": {
    "ExecuteTime": {
     "end_time": "2024-05-26T12:58:50.606664500Z",
     "start_time": "2024-05-26T12:58:50.586756300Z"
    },
    "collapsed": false
   },
   "outputs": [],
   "source": [
    "experiment_default = ExperimentEnum.DEFAULT\n",
    "experiment_control = ExperimentEnum.CONTROL\n",
    "\n",
    "einstellung_percentage_default = get_einstellung_percentage(experiment_default, alphas, betas, alpha=0.5, beta=25)\n",
    "einstellung_percentage_ctrl = get_einstellung_percentage(experiment_control, alphas, betas, alpha=0.5, beta=25)"
   ]
  },
  {
   "cell_type": "code",
   "execution_count": 23,
   "metadata": {
    "ExecuteTime": {
     "end_time": "2024-05-26T12:58:51.742194900Z",
     "start_time": "2024-05-26T12:58:51.736318800Z"
    },
    "collapsed": false
   },
   "outputs": [],
   "source": [
    "mean_exp_c1c2 = calculate_mean_for_indices(einstellung_percentage_default, [5, 6])\n",
    "mean_ctrl_c1c2 = calculate_mean_for_indices(einstellung_percentage_ctrl, [0,1])\n",
    "\n",
    "mean_exp_c3c4 = calculate_mean_for_indices(einstellung_percentage_default, [8, 9])\n",
    "mean_ctrl_c3c4 = calculate_mean_for_indices(einstellung_percentage_ctrl, [3,4])"
   ]
  },
  {
   "cell_type": "code",
   "execution_count": 24,
   "metadata": {
    "ExecuteTime": {
     "end_time": "2024-05-26T12:58:52.559592700Z",
     "start_time": "2024-05-26T12:58:52.169511800Z"
    },
    "collapsed": false
   },
   "outputs": [
    {
     "data": {
      "image/png": "[encoded data removed]",
      "text/plain": [
       "<Figure size 800x400 with 2 Axes>"
      ]
     },
     "metadata": {},
     "output_type": "display_data"
    }
   ],
   "source": [
    "show_combined_plot(mean_exp_c1c2, mean_ctrl_c1c2, mean_exp_c3c4, mean_ctrl_c3c4, \"Experiment\", \"Control\")"
   ]
  },
  {
   "cell_type": "markdown",
   "metadata": {
    "collapsed": false
   },
   "source": [
    "# 2- DBB"
   ]
  },
  {
   "cell_type": "code",
   "execution_count": 25,
   "metadata": {
    "ExecuteTime": {
     "end_time": "2024-05-26T12:58:53.925354Z",
     "start_time": "2024-05-26T12:58:53.902862600Z"
    },
    "collapsed": false
   },
   "outputs": [],
   "source": [
    "experiment_default = ExperimentEnum.DEFAULT\n",
    "\n",
    "einstellung_percentage_default = get_einstellung_percentage(experiment_default, alphas, betas, alpha=0.5, beta=25)\n",
    "einstellung_percentage_dbb = get_einstellung_percentage(experiment_default, alphas, betas, alpha=0.5, beta=30)"
   ]
  },
  {
   "cell_type": "code",
   "execution_count": 26,
   "metadata": {
    "ExecuteTime": {
     "end_time": "2024-05-26T12:58:54.208491800Z",
     "start_time": "2024-05-26T12:58:54.202777200Z"
    },
    "collapsed": false
   },
   "outputs": [],
   "source": [
    "mean_exp_c1c2 = calculate_mean_for_indices(einstellung_percentage_default, [5, 6])\n",
    "mean_dbb_c1c2 = calculate_mean_for_indices(einstellung_percentage_dbb, [5, 6])\n",
    "\n",
    "mean_exp_c3c4 = calculate_mean_for_indices(einstellung_percentage_default, [8, 9])\n",
    "mean_dbb_c3c4 = calculate_mean_for_indices(einstellung_percentage_dbb, [8, 9])"
   ]
  },
  {
   "cell_type": "code",
   "execution_count": 27,
   "metadata": {
    "ExecuteTime": {
     "end_time": "2024-05-26T12:58:54.922065300Z",
     "start_time": "2024-05-26T12:58:54.623423500Z"
    },
    "collapsed": false
   },
   "outputs": [
    {
     "data": {
      "image/png": "[encoded data removed]",
      "text/plain": [
       "<Figure size 800x400 with 2 Axes>"
      ]
     },
     "metadata": {},
     "output_type": "display_data"
    }
   ],
   "source": [
    "show_combined_plot(mean_exp_c1c2, mean_dbb_c1c2, mean_exp_c3c4, mean_dbb_c3c4, f\"Experiment (β = 25)\", \"DBB (β = 30)\")"
   ]
  },
  {
   "cell_type": "markdown",
   "metadata": {
    "collapsed": false
   },
   "source": [
    "# 3- Varying The Number of Training Tasks"
   ]
  },
  {
   "cell_type": "code",
   "execution_count": 28,
   "metadata": {
    "ExecuteTime": {
     "end_time": "2024-05-26T12:58:55.516308600Z",
     "start_time": "2024-05-26T12:58:55.497329Z"
    },
    "collapsed": false
   },
   "outputs": [],
   "source": [
    "experiment_less_e = ExperimentEnum.LESS_E\n",
    "experiment_more_e = ExperimentEnum.MORE_E\n",
    "\n",
    "einstellung_percentage_less_e = get_einstellung_percentage(experiment_less_e, alphas, betas, alpha=0.5, beta=15)\n",
    "einstellung_percentage_more_e = get_einstellung_percentage(experiment_more_e, alphas, betas, alpha=0.5, beta=15)"
   ]
  },
  {
   "cell_type": "code",
   "execution_count": 29,
   "metadata": {
    "ExecuteTime": {
     "end_time": "2024-05-26T12:58:55.771922100Z",
     "start_time": "2024-05-26T12:58:55.765854200Z"
    },
    "collapsed": false
   },
   "outputs": [],
   "source": [
    "mean_less_e_c1c2 = calculate_mean_for_indices(einstellung_percentage_less_e, [2, 3])\n",
    "mean_more_e_c1c2 = calculate_mean_for_indices(einstellung_percentage_more_e, [10, 11])\n",
    "\n",
    "mean_less_e_c3c4 = calculate_mean_for_indices(einstellung_percentage_less_e, [5, 6])\n",
    "mean_more_e_c3c4 = calculate_mean_for_indices(einstellung_percentage_more_e, [13, 14])"
   ]
  },
  {
   "cell_type": "code",
   "execution_count": 30,
   "metadata": {
    "ExecuteTime": {
     "end_time": "2024-05-26T12:58:56.312694200Z",
     "start_time": "2024-05-26T12:58:56.024899700Z"
    },
    "collapsed": false
   },
   "outputs": [
    {
     "data": {
      "image/png": "[encoded data removed]",
      "text/plain": [
       "<Figure size 800x400 with 2 Axes>"
      ]
     },
     "metadata": {},
     "output_type": "display_data"
    }
   ],
   "source": [
    "show_combined_plot(mean_more_e_c1c2, mean_less_e_c1c2, mean_more_e_c3c4, mean_less_e_c3c4, \"Long\", \"Short\")"
   ]
  },
  {
   "cell_type": "markdown",
   "metadata": {
    "collapsed": false
   },
   "source": [
    "# 4- Interleaving E and D Problems"
   ]
  },
  {
   "cell_type": "code",
   "execution_count": 31,
   "metadata": {
    "ExecuteTime": {
     "end_time": "2024-05-26T12:58:56.792528700Z",
     "start_time": "2024-05-26T12:58:56.772453200Z"
    },
    "collapsed": false
   },
   "outputs": [],
   "source": [
    "experiment_alternating = ExperimentEnum.ALTERNATING\n",
    "experiment_extreme = ExperimentEnum.EXTREME\n",
    "\n",
    "einstellung_percentage_alternating = get_einstellung_percentage(experiment_alternating, alphas, betas, alpha=0.5, beta=25)\n",
    "einstellung_percentage_extreme = get_einstellung_percentage(experiment_extreme, alphas, betas, alpha=0.5, beta=25)"
   ]
  },
  {
   "cell_type": "code",
   "execution_count": 32,
   "metadata": {
    "ExecuteTime": {
     "end_time": "2024-05-26T12:58:57.064392100Z",
     "start_time": "2024-05-26T12:58:57.056488200Z"
    },
    "collapsed": false
   },
   "outputs": [],
   "source": [
    "mean_alternating_c1c2 = calculate_mean_for_indices(einstellung_percentage_alternating, [6, 7])\n",
    "mean_extreme_c1c2 = calculate_mean_for_indices(einstellung_percentage_extreme, [6, 7])\n",
    "\n",
    "mean_alternating_c3c4 = calculate_mean_for_indices(einstellung_percentage_alternating, [4, 2])\n",
    "mean_extreme_c3c4 = calculate_mean_for_indices(einstellung_percentage_extreme, [9, 10])"
   ]
  },
  {
   "cell_type": "code",
   "execution_count": 33,
   "metadata": {
    "ExecuteTime": {
     "end_time": "2024-05-26T12:58:57.696339400Z",
     "start_time": "2024-05-26T12:58:57.389018900Z"
    },
    "collapsed": false
   },
   "outputs": [
    {
     "data": {
      "image/png": "[encoded data removed]",
      "text/plain": [
       "<Figure size 800x400 with 2 Axes>"
      ]
     },
     "metadata": {},
     "output_type": "display_data"
    }
   ],
   "source": [
    "show_combined_plot(mean_extreme_c1c2, mean_alternating_c1c2, mean_extreme_c3c4, mean_alternating_c3c4, \"Plain\", \"Alternating\")"
   ]
  },
  {
   "cell_type": "markdown",
   "metadata": {
    "collapsed": false
   },
   "source": [
    "# 5- Adding Time Pressure"
   ]
  },
  {
   "cell_type": "code",
   "execution_count": 34,
   "metadata": {
    "ExecuteTime": {
     "end_time": "2024-05-26T12:58:58.366628Z",
     "start_time": "2024-05-26T12:58:58.342885600Z"
    },
    "collapsed": false
   },
   "outputs": [],
   "source": [
    "experiment_default = ExperimentEnum.DEFAULT\n",
    "\n",
    "einstellung_percentage_plain = get_einstellung_percentage(experiment_default, alphas, betas, alpha=0.5, beta=25)\n",
    "einstellung_percentage_speedy = get_einstellung_percentage(experiment_default, alphas, betas, alpha=0.5, beta=15)"
   ]
  },
  {
   "cell_type": "code",
   "execution_count": 35,
   "metadata": {
    "ExecuteTime": {
     "end_time": "2024-05-26T12:58:58.626952200Z",
     "start_time": "2024-05-26T12:58:58.613104600Z"
    },
    "collapsed": false
   },
   "outputs": [],
   "source": [
    "mean_plain_c1c2 = calculate_mean_for_indices(einstellung_percentage_plain, [5, 6])\n",
    "mean_speedy_c1c2 = calculate_mean_for_indices(einstellung_percentage_speedy, [0, 1])\n",
    "\n",
    "mean_plain_c3c4 = calculate_mean_for_indices(einstellung_percentage_plain, [8, 9])\n",
    "mean_speedy_c3c4 = calculate_mean_for_indices(einstellung_percentage_speedy, [3, 4])"
   ]
  },
  {
   "cell_type": "code",
   "execution_count": 36,
   "metadata": {
    "ExecuteTime": {
     "end_time": "2024-05-26T12:58:59.559937100Z",
     "start_time": "2024-05-26T12:58:59.251891600Z"
    },
    "collapsed": false
   },
   "outputs": [
    {
     "data": {
      "image/png": "[encoded data removed]",
      "text/plain": [
       "<Figure size 800x400 with 2 Axes>"
      ]
     },
     "metadata": {},
     "output_type": "display_data"
    }
   ],
   "source": [
    "show_combined_plot(mean_plain_c1c2, mean_speedy_c1c2, mean_plain_c3c4, mean_speedy_c3c4, \"Plain (β = 25)\", \"Speedy (β = 15)\")"
   ]
  },
  {
   "cell_type": "markdown",
   "metadata": {
    "collapsed": false
   },
   "source": [
    "# 6- Age Factor"
   ]
  },
  {
   "cell_type": "code",
   "execution_count": 37,
   "metadata": {
    "ExecuteTime": {
     "end_time": "2024-05-26T12:59:00.322824500Z",
     "start_time": "2024-05-26T12:59:00.289371600Z"
    },
    "collapsed": false
   },
   "outputs": [],
   "source": [
    "experiment_default = ExperimentEnum.DEFAULT\n",
    "\n",
    "age_beta=30\n",
    "\n",
    "ep_alpha_45 = get_einstellung_percentage(experiment_default, alphas, betas, alpha=0.45, beta=age_beta)\n",
    "ep_alpha_50 = get_einstellung_percentage(experiment_default, alphas, betas, alpha=0.50, beta=age_beta)\n",
    "ep_alpha_55 = get_einstellung_percentage(experiment_default, alphas, betas, alpha=0.55, beta=age_beta)\n",
    "ep_alpha_60 = get_einstellung_percentage(experiment_default, alphas, betas, alpha=0.60, beta=age_beta)"
   ]
  },
  {
   "cell_type": "code",
   "execution_count": 39,
   "metadata": {
    "ExecuteTime": {
     "end_time": "2024-05-26T12:59:00.525819700Z",
     "start_time": "2024-05-26T12:59:00.519332200Z"
    },
    "collapsed": false
   },
   "outputs": [],
   "source": [
    "mean_45 = calculate_mean_for_indices(ep_alpha_45, [5, 6])\n",
    "mean_50 = calculate_mean_for_indices(ep_alpha_50, [5, 6])\n",
    "mean_55 = calculate_mean_for_indices(ep_alpha_55, [5, 6])\n",
    "mean_60 = calculate_mean_for_indices(ep_alpha_60, [5, 6])"
   ]
  },
  {
   "cell_type": "code",
   "execution_count": 40,
   "metadata": {
    "ExecuteTime": {
     "end_time": "2024-05-26T12:59:00.722718100Z",
     "start_time": "2024-05-26T12:59:00.718353800Z"
    },
    "collapsed": false
   },
   "outputs": [],
   "source": [
    "means = [mean_45, mean_50, mean_55, mean_60]\n",
    "age_alphas = [0.45, 0.50, 0.55, 0.60]"
   ]
  },
  {
   "cell_type": "code",
   "execution_count": 41,
   "metadata": {
    "ExecuteTime": {
     "end_time": "2024-05-26T12:59:01.381595400Z",
     "start_time": "2024-05-26T12:59:01.235252300Z"
    },
    "collapsed": false
   },
   "outputs": [
    {
     "data": {
      "image/png": "[encoded data removed]",
      "text/plain": [
       "<Figure size 1000x600 with 1 Axes>"
      ]
     },
     "metadata": {},
     "output_type": "display_data"
    }
   ],
   "source": [
    "plot_alpha_effect_on_einstellung(means, age_alphas)"
   ]
  }
 ],
 "metadata": {
  "kernelspec": {
   "display_name": "Python 3",
   "language": "python",
   "name": "python3"
  },
  "language_info": {
   "codemirror_mode": {
    "name": "ipython",
    "version": 3
   },
   "file_extension": ".py",
   "mimetype": "text/x-python",
   "name": "python",
   "nbconvert_exporter": "python",
   "pygments_lexer": "ipython3",
   "version": "3.8.5"
  }
 },
 "nbformat": 4,
 "nbformat_minor": 2
}
